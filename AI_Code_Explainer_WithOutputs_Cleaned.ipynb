{
 "cells": [
  {
   "cell_type": "code",
   "execution_count": 1,
   "metadata": {
    "colab": {
     "base_uri": "https://localhost:8080/"
    },
    "id": "G5Tfl-p4H3D7",
    "outputId": "4cc6efe5-e6fe-4963-e940-c104c5570adf"
   },
   "outputs": [
    {
     "name": "stdout",
     "output_type": "stream",
     "text": [
      "\u001b[2K   \u001b[90m━━━━━━━━━━━━━━━━━━━━━━━━━━━━━━━━━━━━━━━━\u001b[0m \u001b[32m67.0/67.0 MB\u001b[0m \u001b[31m10.4 MB/s\u001b[0m eta \u001b[36m0:00:00\u001b[0m\n",
      "\u001b[2K   \u001b[90m━━━━━━━━━━━━━━━━━━━━━━━━━━━━━━━━━━━━━━━━\u001b[0m \u001b[32m363.4/363.4 MB\u001b[0m \u001b[31m4.0 MB/s\u001b[0m eta \u001b[36m0:00:00\u001b[0m\n",
      "\u001b[2K   \u001b[90m━━━━━━━━━━━━━━━━━━━━━━━━━━━━━━━━━━━━━━━━\u001b[0m \u001b[32m13.8/13.8 MB\u001b[0m \u001b[31m29.5 MB/s\u001b[0m eta \u001b[36m0:00:00\u001b[0m\n",
      "\u001b[2K   \u001b[90m━━━━━━━━━━━━━━━━━━━━━━━━━━━━━━━━━━━━━━━━\u001b[0m \u001b[32m24.6/24.6 MB\u001b[0m \u001b[31m31.1 MB/s\u001b[0m eta \u001b[36m0:00:00\u001b[0m\n",
      "\u001b[2K   \u001b[90m━━━━━━━━━━━━━━━━━━━━━━━━━━━━━━━━━━━━━━━━\u001b[0m \u001b[32m883.7/883.7 kB\u001b[0m \u001b[31m21.2 MB/s\u001b[0m eta \u001b[36m0:00:00\u001b[0m\n",
      "\u001b[2K   \u001b[90m━━━━━━━━━━━━━━━━━━━━━━━━━━━━━━━━━━━━━━━━\u001b[0m \u001b[32m664.8/664.8 MB\u001b[0m \u001b[31m2.1 MB/s\u001b[0m eta \u001b[36m0:00:00\u001b[0m\n",
      "\u001b[2K   \u001b[90m━━━━━━━━━━━━━━━━━━━━━━━━━━━━━━━━━━━━━━━━\u001b[0m \u001b[32m211.5/211.5 MB\u001b[0m \u001b[31m4.7 MB/s\u001b[0m eta \u001b[36m0:00:00\u001b[0m\n",
      "\u001b[2K   \u001b[90m━━━━━━━━━━━━━━━━━━━━━━━━━━━━━━━━━━━━━━━━\u001b[0m \u001b[32m56.3/56.3 MB\u001b[0m \u001b[31m12.7 MB/s\u001b[0m eta \u001b[36m0:00:00\u001b[0m\n",
      "\u001b[2K   \u001b[90m━━━━━━━━━━━━━━━━━━━━━━━━━━━━━━━━━━━━━━━━\u001b[0m \u001b[32m127.9/127.9 MB\u001b[0m \u001b[31m9.0 MB/s\u001b[0m eta \u001b[36m0:00:00\u001b[0m\n",
      "\u001b[2K   \u001b[90m━━━━━━━━━━━━━━━━━━━━━━━━━━━━━━━━━━━━━━━━\u001b[0m \u001b[32m207.5/207.5 MB\u001b[0m \u001b[31m4.8 MB/s\u001b[0m eta \u001b[36m0:00:00\u001b[0m\n",
      "\u001b[2K   \u001b[90m━━━━━━━━━━━━━━━━━━━━━━━━━━━━━━━━━━━━━━━━\u001b[0m \u001b[32m21.1/21.1 MB\u001b[0m \u001b[31m62.9 MB/s\u001b[0m eta \u001b[36m0:00:00\u001b[0m\n",
      "\u001b[?25h"
     ]
    }
   ],
   "source": [
    "!pip install -q transformers accelerate bitsandbytes gradio torch sentencepiece"
   ]
  },
  {
   "cell_type": "code",
   "execution_count": 2,
   "metadata": {
    "colab": {
     "base_uri": "https://localhost:8080/",
     "height": 305,
     "referenced_widgets": [
      "49b493ceddc8497b88f3307baaaeb085",
      "70a97a943fa648869cbdfa7c1c34d471",
      "3e90c10957ac418680f1efdcc1171900",
      "2f62ed090e5e4dc2bacddddf6c58caeb",
      "a25b5729a5a4474eb882088d5bcc7df7",
      "cedab428b98f454793b930da91a5f133",
      "9218dcf04fd24e0fa18ee80b3342bde5",
      "fc36804b47de45d0b7bc6ad8f3bdd7bc",
      "52fd818d4fc5418199dd4225becdcdf6",
      "b23626d889ca4bc888414817517e86ed",
      "4033e3aa0fc14429a2015bd80a465bb7",
      "415f2c16e2e244c89062617b9df523d5",
      "4415f0294d6d42ad92713a9379b0ddb9",
      "eb3d19c4937043bab325137720b8b47f",
      "42da1d4c24974228be1453177c74c400",
      "8b2e7072716f4f6d90c8aff02478abae",
      "d32d83de634b4163b0ac2276ffc25f1f",
      "6e6128100ca842c1b7ae49a79f28cb19",
      "38f11065b0044182b776eadcc0a7cf62",
      "eef7fcc703fd49ddbb40897f9295e0fb",
      "d81d7eaa2dd24c618f18384b23538c4d",
      "92164b161a8c46bd9c62bb9863f9d881",
      "6ea84b9386ce4e558c95bfce1652efc6",
      "ea55c6cc32ac4065991ac475511aa252",
      "3afd4d0d4f3e4038b2c9ce741a327616",
      "ccc9869ba69943fc9135ea71a6392334",
      "ad61b29228a34cc29218827bd65142d4",
      "bb711f24810a4b48a38edd1d7cb02de9",
      "40352623979e4b6c889045f240386d9b",
      "ee52763d765b4c6ebdcf684975439f0b",
      "a642ed7a4f874f7dbd6be2248be9efc7",
      "081ba612e5234f978323923a13b6a7e6",
      "0337b07a94624ead85009e22ec19d12f",
      "9ba13d1c97b44f72b7b12a21d6317ea4",
      "56c5da5c11ce4c75bf2a14beaf866aef",
      "85a6f1310efd489196bd35d4225c3110",
      "e71c6632d2d2468ab9bf9567a3e823a7",
      "63ee652f2b0d459f869b530be82b88f2",
      "c74ae70d40964591bca3d76ca338be6c",
      "3d71e5b7706e4c7082f8a290e44212c0",
      "c8fcbd4cf254421c9354bd60387a2cac",
      "3ae6c23007c14e87a7e33bdf30a75946",
      "38a8ae71cda548c5bbc2cfdb504d86ad",
      "3391593ef7304d0c8d2ab440eb8f13a5",
      "e1bd4a4df8c94accb738d1a44ee2e3c9",
      "82097875af754878ba5743ac4409e29d",
      "6c0d3a33473246f9bc6c8e30780a7c1b",
      "ee10a38945b948d4bac5bdcb668ab99d",
      "d0b45bf5df61473c9241748627c807e6",
      "fe71b2cc9a27462ea179c378762a5e12",
      "111eff68d51b40ccbfd608b282806559",
      "212b7bc5911640298f785b4e0ecd42c2",
      "e5c9be101b7b4174bf60f9d482f44e7e",
      "ae833848900f452ab31e46eb9f333780",
      "6ac975e809c14840b0351bb2b8cfd2e8",
      "02beb7c4a6b449a992b824bf94c71741",
      "4e00d5b88d204e1c95b872500eb4b7c2",
      "07b2cbd703fe45e8ac631a9ac6e5d4a5",
      "ec34fd329da64a8f91eab325f8c1d994",
      "a924bb77d42d4a9d9225aeb2690784de",
      "e718261f89094c1381afcab1eed5d9b4",
      "517eb633fb3c47949aa159186ca8a1dd",
      "b77fdc4556724a0db253ba13d9fc9547",
      "b178e399da1d4fe0bf6d22e5b235ed27",
      "d2a0236294a344b68d126d20909897f5",
      "739e0b53e2194380aa5c4994401c4d1f",
      "7b70b9b413f0408482222cf4c3280b77",
      "ff9c5dece30549f0b622ab9d5822524b",
      "f396887522df4c7d9ade44f08f4e6ed9",
      "61ebb5a9090642a2ac51bf458534b875",
      "50da4667c16e40ee8233c0d55371c9c1",
      "866065256dfa47a3bf1cfea496eafea6",
      "0df7a6a924054abb9d671713bf9b077e",
      "d58a5de647f0425a96217381592399f4",
      "8e8d6c289e124568af6416f489f8d697",
      "20087f90ee814890b8b93dea0aeb4a34",
      "e524844dd822486b9da67e4c06f747fb",
      "5fb40e9303e745cf8318a0bb8646139f",
      "bf12fde42d574b408e5694dd0589d68a",
      "d2aefea40dfe440d934e1f8ee0f41f5d",
      "5e4c5892fce54dac93d3307ee96342b3",
      "e01c51a03a604e0194089eb430e23288",
      "eb8b64260c514c7cb7f8314c0a4bc5eb",
      "d494e28b5c504f44902b4f32539846c6",
      "cb6699eb300d46429f6ea6891fcb4404",
      "54a031e0f0d440a7a1fd618da036351c",
      "426b9037ae4b45b6bb23bc2a7fcda7c0",
      "e73f31382e9a466fbf9544dcedc79031",
      "a4e4aabe7b8744189e7aa6907b9ca199",
      "f6fe6b35a738467296d0d1357e77519f",
      "aef2299ef7ae47d69aaed255febe697c",
      "2db25f8342374ca390ca4d2bc3176137",
      "eaa1c129d02e480bb16d95a537661d81",
      "8200895b49eb42a7af00bdf8f4feea2d",
      "91a4bc765ddf42a28d13da78da1739bb",
      "ecb3089a029349049228369443a8df42",
      "d4573f7aedaa4e6989a1306c410f5ca1",
      "2b8e7aad8cf8417697c5ccecc9cd4c6c",
      "1a46cbed9b3d4f888c2ca4526077733c"
     ]
    },
    "id": "_QTuW1sgIXEI",
    "outputId": "77c1d7a3-0467-4485-e341-e032467a3017"
   },
   "outputs": [
    {
     "data": {
      "application/vnd.jupyter.widget-view+json": {
       "model_id": "49b493ceddc8497b88f3307baaaeb085",
       "version_major": 2,
       "version_minor": 0
      },
      "text/plain": [
       "tokenizer_config.json: 0.00B [00:00, ?B/s]"
      ]
     },
     "metadata": {},
     "output_type": "display_data"
    },
    {
     "data": {
      "application/vnd.jupyter.widget-view+json": {
       "model_id": "415f2c16e2e244c89062617b9df523d5",
       "version_major": 2,
       "version_minor": 0
      },
      "text/plain": [
       "tokenizer.json: 0.00B [00:00, ?B/s]"
      ]
     },
     "metadata": {},
     "output_type": "display_data"
    },
    {
     "data": {
      "application/vnd.jupyter.widget-view+json": {
       "model_id": "6ea84b9386ce4e558c95bfce1652efc6",
       "version_major": 2,
       "version_minor": 0
      },
      "text/plain": [
       "config.json:   0%|          | 0.00/760 [00:00<?, ?B/s]"
      ]
     },
     "metadata": {},
     "output_type": "display_data"
    },
    {
     "data": {
      "application/vnd.jupyter.widget-view+json": {
       "model_id": "9ba13d1c97b44f72b7b12a21d6317ea4",
       "version_major": 2,
       "version_minor": 0
      },
      "text/plain": [
       "model.safetensors.index.json: 0.00B [00:00, ?B/s]"
      ]
     },
     "metadata": {},
     "output_type": "display_data"
    },
    {
     "data": {
      "application/vnd.jupyter.widget-view+json": {
       "model_id": "e1bd4a4df8c94accb738d1a44ee2e3c9",
       "version_major": 2,
       "version_minor": 0
      },
      "text/plain": [
       "Fetching 2 files:   0%|          | 0/2 [00:00<?, ?it/s]"
      ]
     },
     "metadata": {},
     "output_type": "display_data"
    },
    {
     "data": {
      "application/vnd.jupyter.widget-view+json": {
       "model_id": "02beb7c4a6b449a992b824bf94c71741",
       "version_major": 2,
       "version_minor": 0
      },
      "text/plain": [
       "model-00001-of-00002.safetensors:   0%|          | 0.00/9.98G [00:00<?, ?B/s]"
      ]
     },
     "metadata": {},
     "output_type": "display_data"
    },
    {
     "data": {
      "application/vnd.jupyter.widget-view+json": {
       "model_id": "7b70b9b413f0408482222cf4c3280b77",
       "version_major": 2,
       "version_minor": 0
      },
      "text/plain": [
       "model-00002-of-00002.safetensors:   0%|          | 0.00/3.50G [00:00<?, ?B/s]"
      ]
     },
     "metadata": {},
     "output_type": "display_data"
    },
    {
     "data": {
      "application/vnd.jupyter.widget-view+json": {
       "model_id": "5fb40e9303e745cf8318a0bb8646139f",
       "version_major": 2,
       "version_minor": 0
      },
      "text/plain": [
       "Loading checkpoint shards:   0%|          | 0/2 [00:00<?, ?it/s]"
      ]
     },
     "metadata": {},
     "output_type": "display_data"
    },
    {
     "data": {
      "application/vnd.jupyter.widget-view+json": {
       "model_id": "a4e4aabe7b8744189e7aa6907b9ca199",
       "version_major": 2,
       "version_minor": 0
      },
      "text/plain": [
       "generation_config.json:   0%|          | 0.00/119 [00:00<?, ?B/s]"
      ]
     },
     "metadata": {},
     "output_type": "display_data"
    }
   ],
   "source": [
    "import warnings\n",
    "warnings.filterwarnings(\"ignore\")\n",
    "import os\n",
    "os.environ[\"HF_TOKEN\"] = \"\"\n",
    "from transformers import AutoModelForCausalLM, AutoTokenizer\n",
    "import torch\n",
    "import gradio as gr\n",
    "\n",
    "model_name = \"deepseek-ai/deepseek-coder-6.7b-instruct\"\n",
    "\n",
    "tokenizer = AutoTokenizer.from_pretrained(model_name)\n",
    "model = AutoModelForCausalLM.from_pretrained(\n",
    "    model_name,\n",
    "    device_map=\"auto\",\n",
    "    torch_dtype=torch.float16,\n",
    "    quantization_config={\"load_in_4bit\": True}\n",
    ")"
   ]
  },
  {
   "cell_type": "code",
   "execution_count": 3,
   "metadata": {
    "colab": {
     "base_uri": "https://localhost:8080/",
     "height": 646
    },
    "id": "uswPsYVCIgrg",
    "outputId": "d891f5b9-18e1-4d7b-8045-f57f055b4dbe"
   },
   "outputs": [
    {
     "name": "stdout",
     "output_type": "stream",
     "text": [
      "It looks like you are running Gradio on a hosted a Jupyter notebook. For the Gradio app to work, sharing must be enabled. Automatically setting `share=True` (you can turn this off by setting `share=False` in `launch()` explicitly).\n",
      "\n",
      "Colab notebook detected. To show errors in colab notebook, set debug=True in launch()\n",
      "* Running on public URL: https://750e94488135d84be6.gradio.live\n",
      "\n",
      "This share link expires in 1 week. For free permanent hosting and GPU upgrades, run `gradio deploy` from the terminal in the working directory to deploy to Hugging Face Spaces (https://huggingface.co/spaces)\n"
     ]
    },
    {
     "data": {
      "text/html": [
       "<div><iframe src=\"https://750e94488135d84be6.gradio.live\" width=\"100%\" height=\"500\" allow=\"autoplay; camera; microphone; clipboard-read; clipboard-write;\" frameborder=\"0\" allowfullscreen></iframe></div>"
      ],
      "text/plain": [
       "<IPython.core.display.HTML object>"
      ]
     },
     "metadata": {},
     "output_type": "display_data"
    },
    {
     "data": {
      "text/plain": []
     },
     "execution_count": 3,
     "metadata": {},
     "output_type": "execute_result"
    }
   ],
   "source": [
    "EXAMPLES = {\n",
    "    \"Python\": [\n",
    "        'print(\"Hello, World!\")',\n",
    "        'def add(a, b):\\n    return a + b',\n",
    "        'for i in range(5):\\n    print(i)'\n",
    "    ],\n",
    "    \"Java\": [\n",
    "        'public class Hello {\\n  public static void main(String[] args) {\\n    System.out.println(\"Hello World\");\\n  }\\n}',\n",
    "        'int sum(int a, int b) {\\n  return a + b;\\n}'\n",
    "    ],\n",
    "    \"C\": [\n",
    "        '#include <stdio.h>\\nint main() {\\n  printf(\"Hello, World!\");\\n  return 0;\\n}',\n",
    "        'int add(int a, int b) {\\n  return a + b;\\n}'\n",
    "    ],\n",
    "    \"C++\": [\n",
    "        '#include <iostream>\\nusing namespace std;\\nint main() {\\n  cout << \"Hello World\";\\n  return 0;\\n}',\n",
    "        'int add(int a, int b) {\\n  return a + b;\\n}'\n",
    "    ]\n",
    "}\n",
    "\n",
    "\n",
    "def explain_code(code, language):\n",
    "    if not code.strip():\n",
    "        return \"Please enter code!\"\n",
    "\n",
    "    prompt = (\n",
    "        f\"Provide a concise explanation of this {language} code using exactly 3 bullet points:\\n\"\n",
    "        \"- Purpose: [state what the code does]\\n\"\n",
    "        \"- Key Components: [list main elements]\\n\"\n",
    "        \"- Output: [describe expected result]\\n\\n\"\n",
    "        f\"Here is the code:\\n{code}\\n\\nExplanation:\"\n",
    "    )\n",
    "\n",
    "    try:\n",
    "        inputs = tokenizer(prompt, return_tensors=\"pt\").to(\"cuda\")\n",
    "        outputs = model.generate(**inputs, max_new_tokens=200)\n",
    "        explanation = tokenizer.decode(outputs[0], skip_special_tokens=True)\n",
    "\n",
    "        if \"Explanation:\" in explanation:\n",
    "            explanation = explanation.split(\"Explanation:\")[1].strip()\n",
    "\n",
    "        if not all(x in explanation for x in [\"Purpose:\", \"Key Components:\", \"Output:\"]):\n",
    "            explanation = \"- Purpose:\\n- Key Components:\\n- Output:\\n\" + explanation\n",
    "\n",
    "        return explanation\n",
    "    except Exception as e:\n",
    "        return f\"Error: {str(e)}\"\n",
    "\n",
    "custom_css = \"\"\"\n",
    "@import url('https://fonts.googleapis.com/css2?family=Fira+Code:wght@500&family=Montserrat:wght@700&display=swap');\n",
    "body {\n",
    "    background: linear-gradient(120deg, #18122B 0%, #393053 100%) fixed !important;\n",
    "    min-height: 100vh;\n",
    "    color: #e0c2ff !important;\n",
    "    font-family: 'Fira Code', 'Montserrat', monospace, sans-serif !important;\n",
    "    overflow-x: hidden;\n",
    "}\n",
    ".animated-bg {\n",
    "    position: fixed;\n",
    "    top: 0; left: 0; width: 100vw; height: 100vh;\n",
    "    z-index: 0;\n",
    "    background: radial-gradient(circle at 20% 30%, #a855f7 0%, transparent 60%),\n",
    "                radial-gradient(circle at 80% 70%, #9333ea 0%, transparent 60%),\n",
    "                linear-gradient(120deg, #18122B 0%, #393053 100%);\n",
    "    opacity: 0.25;\n",
    "    animation: bgmove 12s ease-in-out infinite alternate;\n",
    "}\n",
    "@keyframes bgmove {\n",
    "    0% { filter: blur(0px); }\n",
    "    100% { filter: blur(8px); }\n",
    "}\n",
    "\n",
    "h1, h2, label, .gr-button {\n",
    "    color: #fff !important;\n",
    "    text-shadow: 0 0 24px #a855f7, 0 0 2px #fff;\n",
    "    font-family: 'Montserrat', 'Fira Code', monospace, sans-serif !important;\n",
    "}\n",
    "\n",
    "#code-col .gr-code, #code-col .gr-box, #code-col textarea {\n",
    "    background: rgba(40, 20, 60, 0.92) !important;\n",
    "    color: #f8f8ff !important;\n",
    "    border: 2.5px solid #a855f7 !important;\n",
    "    border-radius: 20px !important;\n",
    "    box-shadow: 0 0 32px 8px #a855f7cc, 0 0 2px 1px #222 inset !important;\n",
    "    font-size: 17px;\n",
    "    font-family: 'Fira Code', monospace !important;\n",
    "}\n",
    "#code-col label[for^='Your Code'] {\n",
    "    font-size: 1.2em;\n",
    "    color: #fff !important;\n",
    "     font-weight: bold;\n",
    "    text-shadow:\n",
    "        0 0 70px #a855f7,\n",
    "        0 0 70px #a855f7,\n",
    "        0 0 24px #9333ea,\n",
    "        0 0 16px #c084fc,\n",
    "        0 0 8px #fff !important;\n",
    "    margin-bottom: 10px;\n",
    "    letter-spacing: 1.2px;\n",
    "}\n",
    "#code-col .gr-code textarea {\n",
    "    background: rgba(40, 20, 60, 0.98) !important;\n",
    "    color: #f8f8ff !important;\n",
    "    border: 2.5px solid #a855f7 !important;\n",
    "    border-radius: 20px !important;\n",
    "    box-shadow: 0 0 32px 8px #a855f7cc !important;\n",
    "    padding: 20px !important;\n",
    "    font-family: 'Fira Code', monospace !important;\n",
    "}\n",
    "\n",
    "#explanation-col .gr-textbox, #explanation-col .gr-box, #explanation-col textarea {\n",
    "    background: rgba(30, 10, 40, 0.92) !important;\n",
    "    color: #e0c2ff !important;\n",
    "    border: 2.5px solid #c084fc !important;\n",
    "    border-radius: 20px !important;\n",
    "    box-shadow: 0 0 36px 10px #c084fcbb, 0 0 2px 1px #222 inset !important;\n",
    "    font-size: 17px;\n",
    "    font-family: 'Fira Code', monospace !important;\n",
    "}\n",
    "#explanation-col label[for^='Explanation'] {\n",
    "    font-size: 1.2em;\n",
    "    color: #fff !important;\n",
    "    font-weight: bold;\n",
    "    text-shadow: 0 0 18px #c084fc, 0 0 2px #fff;\n",
    "    margin-bottom: 10px;\n",
    "    letter-spacing: 1.2px;\n",
    "}\n",
    "#explanation-col .gr-textbox textarea {\n",
    "    background: rgba(30, 10, 40, 0.98) !important;\n",
    "    color: #e0c2ff !important;\n",
    "    border: 2.5px solid #c084fc !important;\n",
    "    border-radius: 20px !important;\n",
    "    box-shadow: 0 0 36px 10px #c084fcbb !important;\n",
    "    padding: 20px !important;\n",
    "    font-family: 'Fira Code', monospace !important;\n",
    "}\n",
    "\n",
    ".gr-button {\n",
    "    background: linear-gradient(90deg, #7e22ce, #9333ea) !important;\n",
    "    border: none !important;\n",
    "    color: #fff !important;\n",
    "    font-weight: bold;\n",
    "    padding: 16px 36px;\n",
    "    border-radius: 16px !important;\n",
    "    box-shadow: 0 0 40px #a855f7, 0 0 2px 1px #222 inset !important;\n",
    "    text-shadow: 0 0 16px #a855f7;\n",
    "    letter-spacing: 1.3px;\n",
    "    font-size: 1.18em;\n",
    "    margin-top: 18px !important;\n",
    "    margin-bottom: 10px !important;\n",
    "    transition: transform 0.2s, box-shadow 0.2s, background 0.2s;\n",
    "}\n",
    ".gr-button:hover {\n",
    "    transform: scale(1.07) rotate(-1deg);\n",
    "    background: linear-gradient(90deg, #9333ea, #7e22ce) !important;\n",
    "    color: #fff !important;\n",
    "    box-shadow: 0 0 60px 16px #a855f7cc, 0 0 2px 1px #222 inset !important;\n",
    "}\n",
    ".gr-dropdown, select {\n",
    "    background-color: rgba(24, 18, 43, 0.92) !important;\n",
    "    color: #c084fc !important;\n",
    "    border: 2.5px solid #a855f7 !important;\n",
    "    border-radius: 14px !important;\n",
    "    box-shadow: 0 0 18px 4px #a855f7cc !important;\n",
    "    font-size: 1.08em;\n",
    "    font-family: 'Fira Code', monospace !important;\n",
    "}\n",
    ".gr-markdown h1, .gr-markdown h2 {\n",
    "    color: #fff !important;\n",
    "    text-shadow: 0 0 32px #a855f7, 0 0 2px #fff;\n",
    "    letter-spacing: 2.5px;\n",
    "    margin-bottom: 0.2em;\n",
    "    font-family: 'Montserrat', 'Fira Code', monospace, sans-serif !important;\n",
    "}\n",
    ".gr-markdown strong { color: #a855f7 !important; }\n",
    ".gr-markdown pre, .gr-markdown code {\n",
    "    background: rgba(24, 18, 43, 0.92) !important;\n",
    "    color: #c084fc !important;\n",
    "    border-radius: 14px !important;\n",
    "    box-shadow: 0 0 18px 4px #a855f7cc !important;\n",
    "    padding: 16px 20px !important;\n",
    "    font-family: 'Fira Code', monospace !important;\n",
    "}\n",
    "::selection { background: #a855f7; color: #fff; }\n",
    "\n",
    ".flex-row {\n",
    "    display: flex;\n",
    "    flex-wrap: wrap;\n",
    "    gap: 40px;\n",
    "    justify-content: center;\n",
    "    align-items: flex-start;\n",
    "    margin-top: 32px;\n",
    "    margin-bottom: 32px;\n",
    "    z-index: 1;\n",
    "}\n",
    ".flex-col {\n",
    "    flex: 1 1 400px;\n",
    "    min-width: 340px;\n",
    "    max-width: 650px;\n",
    "    display: flex;\n",
    "    flex-direction: column;\n",
    "    gap: 18px;\n",
    "}\n",
    "@media (max-width: 1100px) {\n",
    "    .flex-row { flex-direction: column; gap: 24px; }\n",
    "    .flex-col { max-width: 100%; }\n",
    "}\n",
    "\"\"\"\n",
    "\n",
    "with gr.Blocks(css=custom_css) as demo:\n",
    "    gr.HTML('<div class=\"animated-bg\"></div>')\n",
    "    gr.Markdown(\"\"\"\n",
    "    <h1 style='font-size:2.7em;letter-spacing:2.5px;'><span style='color:#fff;text-shadow:0 0 32px #a855f7;'>AI Code Explainer</span></h1>\n",
    "    <h2 style='color:#a855f7;text-shadow:0 0 24px #a855f7;font-size:1.4em;'>Understand Python, Java, C, or C++ code in plain English</h2>\n",
    "    \"\"\")\n",
    "\n",
    "    with gr.Row(elem_id=\"top-controls\", equal_height=True):\n",
    "        language_dropdown = gr.Dropdown(choices=list(EXAMPLES.keys()), value=\"Python\", label=\"Select Language\")\n",
    "        example_selector = gr.Dropdown(choices=EXAMPLES[\"Python\"], label=\"Select Example\")\n",
    "\n",
    "    with gr.Row(elem_id=\"main-content-row\"):\n",
    "        with gr.Column(elem_id=\"code-col\"):\n",
    "            code_input = gr.Code(label=\"Your Code\", language=\"python\", lines=16)\n",
    "            explain_btn = gr.Button(\"Explain Code\")\n",
    "        with gr.Column(elem_id=\"explanation-col\"):\n",
    "            explanation_output = gr.Textbox(label=\"Explanation\", lines=16, interactive=False)\n",
    "\n",
    "    def update_examples(language):\n",
    "        return gr.update(choices=EXAMPLES[language], value=EXAMPLES[language][0]), EXAMPLES[language][0]\n",
    "\n",
    "    language_dropdown.change(fn=update_examples, inputs=language_dropdown, outputs=[example_selector, code_input])\n",
    "    example_selector.change(fn=lambda code: code, inputs=example_selector, outputs=code_input)\n",
    "    explain_btn.click(fn=explain_code, inputs=[code_input, language_dropdown], outputs=explanation_output)\n",
    "\n",
    "demo.launch()"
   ]
  }
 ],
 "metadata": {},
 "nbformat": 4,
 "nbformat_minor": 0
}
