{
 "nbformat": 4,
 "nbformat_minor": 0,
 "metadata": {
  "colab": {
   "provenance": [],
   "gpuType": "T4"
  },
  "kernelspec": {
   "name": "python3",
   "display_name": "Python 3"
  },
  "language_info": {
   "name": "python"
  },
  "accelerator": "GPU"
 },
 "cells": [
  {
   "cell_type": "code",
   "execution_count": 1,
   "metadata": {
    "colab": {
     "base_uri": "https://localhost:8080/"
    },
    "id": "G5Tfl-p4H3D7",
    "outputId": "feef55e1-2cd5-416e-adcd-5bc112d568bb"
   },
   "outputs": [
    {
     "output_type": "stream",
     "name": "stdout",
     "text": [
      "\u001b[2K   \u001b[90m\u2501\u2501\u2501\u2501\u2501\u2501\u2501\u2501\u2501\u2501\u2501\u2501\u2501\u2501\u2501\u2501\u2501\u2501\u2501\u2501\u2501\u2501\u2501\u2501\u2501\u2501\u2501\u2501\u2501\u2501\u2501\u2501\u2501\u2501\u2501\u2501\u2501\u2501\u2501\u2501\u001b[0m \u001b[32m67.0/67.0 MB\u001b[0m \u001b[31m12.2 MB/s\u001b[0m eta \u001b[36m0:00:00\u001b[0m\n",
      "\u001b[2K   \u001b[90m\u2501\u2501\u2501\u2501\u2501\u2501\u2501\u2501\u2501\u2501\u2501\u2501\u2501\u2501\u2501\u2501\u2501\u2501\u2501\u2501\u2501\u2501\u2501\u2501\u2501\u2501\u2501\u2501\u2501\u2501\u2501\u2501\u2501\u2501\u2501\u2501\u2501\u2501\u2501\u2501\u001b[0m \u001b[32m363.4/363.4 MB\u001b[0m \u001b[31m5.2 MB/s\u001b[0m eta \u001b[36m0:00:00\u001b[0m\n",
      "\u001b[2K   \u001b[90m\u2501\u2501\u2501\u2501\u2501\u2501\u2501\u2501\u2501\u2501\u2501\u2501\u2501\u2501\u2501\u2501\u2501\u2501\u2501\u2501\u2501\u2501\u2501\u2501\u2501\u2501\u2501\u2501\u2501\u2501\u2501\u2501\u2501\u2501\u2501\u2501\u2501\u2501\u2501\u2501\u001b[0m \u001b[32m13.8/13.8 MB\u001b[0m \u001b[31m121.9 MB/s\u001b[0m eta \u001b[36m0:00:00\u001b[0m\n",
      "\u001b[2K   \u001b[90m\u2501\u2501\u2501\u2501\u2501\u2501\u2501\u2501\u2501\u2501\u2501\u2501\u2501\u2501\u2501\u2501\u2501\u2501\u2501\u2501\u2501\u2501\u2501\u2501\u2501\u2501\u2501\u2501\u2501\u2501\u2501\u2501\u2501\u2501\u2501\u2501\u2501\u2501\u2501\u2501\u001b[0m \u001b[32m24.6/24.6 MB\u001b[0m \u001b[31m96.0 MB/s\u001b[0m eta \u001b[36m0:00:00\u001b[0m\n",
      "\u001b[2K   \u001b[90m\u2501\u2501\u2501\u2501\u2501\u2501\u2501\u2501\u2501\u2501\u2501\u2501\u2501\u2501\u2501\u2501\u2501\u2501\u2501\u2501\u2501\u2501\u2501\u2501\u2501\u2501\u2501\u2501\u2501\u2501\u2501\u2501\u2501\u2501\u2501\u2501\u2501\u2501\u2501\u2501\u001b[0m \u001b[32m883.7/883.7 kB\u001b[0m \u001b[31m56.7 MB/s\u001b[0m eta \u001b[36m0:00:00\u001b[0m\n",
      "\u001b[2K   \u001b[90m\u2501\u2501\u2501\u2501\u2501\u2501\u2501\u2501\u2501\u2501\u2501\u2501\u2501\u2501\u2501\u2501\u2501\u2501\u2501\u2501\u2501\u2501\u2501\u2501\u2501\u2501\u2501\u2501\u2501\u2501\u2501\u2501\u2501\u2501\u2501\u2501\u2501\u2501\u2501\u2501\u001b[0m \u001b[32m664.8/664.8 MB\u001b[0m \u001b[31m2.7 MB/s\u001b[0m eta \u001b[36m0:00:00\u001b[0m\n",
      "\u001b[2K   \u001b[90m\u2501\u2501\u2501\u2501\u2501\u2501\u2501\u2501\u2501\u2501\u2501\u2501\u2501\u2501\u2501\u2501\u2501\u2501\u2501\u2501\u2501\u2501\u2501\u2501\u2501\u2501\u2501\u2501\u2501\u2501\u2501\u2501\u2501\u2501\u2501\u2501\u2501\u2501\u2501\u2501\u001b[0m \u001b[32m211.5/211.5 MB\u001b[0m \u001b[31m5.3 MB/s\u001b[0m eta \u001b[36m0:00:00\u001b[0m\n",
      "\u001b[2K   \u001b[90m\u2501\u2501\u2501\u2501\u2501\u2501\u2501\u2501\u2501\u2501\u2501\u2501\u2501\u2501\u2501\u2501\u2501\u2501\u2501\u2501\u2501\u2501\u2501\u2501\u2501\u2501\u2501\u2501\u2501\u2501\u2501\u2501\u2501\u2501\u2501\u2501\u2501\u2501\u2501\u2501\u001b[0m \u001b[32m56.3/56.3 MB\u001b[0m \u001b[31m22.3 MB/s\u001b[0m eta \u001b[36m0:00:00\u001b[0m\n",
      "\u001b[2K   \u001b[90m\u2501\u2501\u2501\u2501\u2501\u2501\u2501\u2501\u2501\u2501\u2501\u2501\u2501\u2501\u2501\u2501\u2501\u2501\u2501\u2501\u2501\u2501\u2501\u2501\u2501\u2501\u2501\u2501\u2501\u2501\u2501\u2501\u2501\u2501\u2501\u2501\u2501\u2501\u2501\u2501\u001b[0m \u001b[32m127.9/127.9 MB\u001b[0m \u001b[31m7.3 MB/s\u001b[0m eta \u001b[36m0:00:00\u001b[0m\n",
      "\u001b[2K   \u001b[90m\u2501\u2501\u2501\u2501\u2501\u2501\u2501\u2501\u2501\u2501\u2501\u2501\u2501\u2501\u2501\u2501\u2501\u2501\u2501\u2501\u2501\u2501\u2501\u2501\u2501\u2501\u2501\u2501\u2501\u2501\u2501\u2501\u2501\u2501\u2501\u2501\u2501\u2501\u2501\u2501\u001b[0m \u001b[32m207.5/207.5 MB\u001b[0m \u001b[31m5.4 MB/s\u001b[0m eta \u001b[36m0:00:00\u001b[0m\n",
      "\u001b[2K   \u001b[90m\u2501\u2501\u2501\u2501\u2501\u2501\u2501\u2501\u2501\u2501\u2501\u2501\u2501\u2501\u2501\u2501\u2501\u2501\u2501\u2501\u2501\u2501\u2501\u2501\u2501\u2501\u2501\u2501\u2501\u2501\u2501\u2501\u2501\u2501\u2501\u2501\u2501\u2501\u2501\u2501\u001b[0m \u001b[32m21.1/21.1 MB\u001b[0m \u001b[31m39.1 MB/s\u001b[0m eta \u001b[36m0:00:00\u001b[0m\n",
      "\u001b[?25h"
     ]
    }
   ],
   "source": [
    "!pip install -q transformers accelerate bitsandbytes gradio torch sentencepiece"
   ]
  },
  {
   "cell_type": "code",
   "source": [
    "from transformers import AutoModelForCausalLM, AutoTokenizer\n",
    "import torch\n",
    "import gradio as gr\n",
    "\n",
    "model_name = \"deepseek-ai/deepseek-coder-6.7b-instruct\"\n",
    "\n",
    "tokenizer = AutoTokenizer.from_pretrained(model_name)\n",
    "model = AutoModelForCausalLM.from_pretrained(\n",
    "    model_name,\n",
    "    device_map=\"auto\",\n",
    "    torch_dtype=torch.float16,\n",
    "    load_in_4bit=True,\n",
    ")"
   ],
   "metadata": {
    "colab": {
     "base_uri": "https://localhost:8080/",
     "height": 446,
     "referenced_widgets": [
      "c257e5290d33474ab69b2229acae28ad",
      "7c70d64777104530b4bca2a87f66292a",
      "5c97faef59c448c2b2c3f91b4cf9fc40",
      "e218fb11ca59457b8593dc67cb9cc8c0",
      "73ba707a88ce4cef89757743e83f237e",
      "edeb63f34ba043098937d53a9e663666",
      "574f98bae4834966bc8f8f94da270cc6",
      "b60e29c8087e499792b498414893c186",
      "5b44a750d11a405598ec3b624f1f20dd",
      "a81a234af5d44076b8982e7531da340b",
      "d72f332239424ffcb6c07e98b541dd86",
      "04387f41ab7943a5b58d34f2bf3fbc8c",
      "5d820e53d6d64b2ea99dc32a3034f5f9",
      "61a4f5c3cc43483b89350f6a42f77697",
      "2e632cbe617b4418b437904ebfbf71b1",
      "61c0d16b5da84ba988a90598662fdf5e",
      "7baab8072698430fa8e567cbb954a24e",
      "2c8e797914fe4a00ab13e546d1c99e5c",
      "1af3125674fc47b6abb12da5648cd64f",
      "2b836b6c8a1d4fd69616c1718e0750d9",
      "77b3eaf57cfe4032a829b9de79b07a25",
      "fa2a32d83c8940d689692212df2cdc10",
      "7a3d7d8800cb45e7b11468755f3468bb",
      "52822a0059dd43b0a94f3079443a9560",
      "806ec8c859d7451aa2cc95643d264f97",
      "3caf8a9c93a546e4b823fbb04b6fb358",
      "6d52966204054a8cb8e23b4475420f67",
      "dc598ba2e75b46a894d28df106b18cd5",
      "29dd7fd41b4441cf9237b569f79da81c",
      "8834d865d3c145be9908ad1771873d24",
      "0ded5dbdd7054a19ba844ff3dc48d369",
      "91f6671136214cbeb1659d093a458103",
      "b4338ceb9415465db224b6103b685a5b",
      "5de9d21eb5c74b02baa49d03a45d69ce",
      "a01cf7d85845490699c7bfc55dce0b3a",
      "13f769ff86744611bb9c4e174cbcb378",
      "c62ca7b061b94d19b337ebccead15d7f",
      "43337213fc614091b83f6bb6d9e1a6cf",
      "a14ade108460468aae0e749f740e84b6",
      "3092e2eb70444d95a91c7429ee319418",
      "5142c37e0a2e4ffbbb1574fb810ad243",
      "04eec39a0c4743609c8186dd439efc12",
      "43672e881b1748b5859e90a977d710b6",
      "59059ff3dc754f8bb84dae811087b6da",
      "8edae411a9494d1ea167c9fb3479ce22",
      "3dcb2874038843e8a4a1f7d446adb528",
      "bffef8683797402b94b1002150da4638",
      "82b186430d4148df83e6477262444dfe",
      "4aa4f3b495ab45929af3bfd31d767020",
      "4205e14bdf1e43aa9118e4bafcdfaaff",
      "369fb8a58f884d93af368e77f351dab5",
      "5d1ccc4513a04776870ea46b1448e384",
      "a6ea32dca894492c8b9aa6e96faf1a29",
      "8542bb6bea024633be14ef7780295233",
      "9a5dd6490ef046fea5a47f2346a680d6",
      "beeb741ac1c34d59ac16746cef13c7da",
      "67ffbf0e12024286ab18e3f2c2bbfcac",
      "b532398320a745bdaf21ce00c720a561",
      "c997f604de3243669fdc2af7a92b4f0b",
      "22f0a76cff414f9d86c6860d25d01350",
      "fce6170cb6e54cf084c892695bf776c9",
      "5303122785fa41e0ada4146f3198cb8a",
      "284d65cd862d49c5be76e82442e54965",
      "c0dd9c4194d442b4a0507f5029348826",
      "4180ec2c5fb648a690556516884cb458",
      "147112661fdc4d71b842ec807970c3be",
      "656bbdcb306e4c04bfb25e6095a2de8e",
      "ad3c723d7d6c4e81bacc87ad48a5fc4b",
      "4f5515aee5b74de0a4641f005466675d",
      "195fb77db9b941cca6f80e99824aa9ae",
      "e8bce50298c44de4ae38edadac903e7c",
      "9b02766cc40f4efebc1fa00c89fb1c5b",
      "ccdd0b959ee44942bd1ac14a15dee970",
      "cb6a119ddb664df4910d6b4894383040",
      "df7d0704febf49d2a937accacc302be7",
      "65b5850781a8401d9077ce14b12b1a0a",
      "6114f8cde8d34e2884c83cf9c295ece1",
      "6dae51edf76242b4b81999e0f9f8739d",
      "861d4ecf0f2742a7bf6ea988ed1fbf9c",
      "7d3197c5a5a14c3382973213379be3f2",
      "5f9d6cb4e9144ce592ec38316db962a1",
      "0763c019907e467da5921d7d023abb4f",
      "6cbbfe2dc8954e09a6e6614e2335bff5",
      "231ba4f5fe5b4ec29d8aff8874c4c9e7",
      "633655edd82c44b9b6b70a033be9f736",
      "e230081f251c43b0a084a776bb31c567",
      "2bc48f24b0a54b1c97b1b4acbd24eb06",
      "a8beca2ce7f04eaeba4fbc47788da192",
      "52f517dec7114cd1a7f8b76259743c1c",
      "f95cb8cc87a844ae925bd819c00f39d6",
      "5bb30bf8d4384733ae6bf0626523da95",
      "616ff98ac9c04dcb92d6ce86536b4697",
      "cd2deed442824227a9c1b9d5b8672501",
      "4275518c68fa491198fc9c2ae2633607",
      "5e856a53e3c24905a56eaffb91b4370c",
      "4c82ed673751477488d87cbaa6d22294",
      "da7b95f0740b44e7bdb1989498bfba2d",
      "82ed66b585b647dc96daaf1595ec760c",
      "5bac08c7f50d4ec396b4f89f59cb4e89"
     ]
    },
    "id": "_QTuW1sgIXEI",
    "outputId": "9f1fcf78-5748-4565-8330-03c8f82abfef"
   },
   "execution_count": 2,
   "outputs": [
    {
     "output_type": "stream",
     "name": "stderr",
     "text": [
      "/usr/local/lib/python3.11/dist-packages/huggingface_hub/utils/_auth.py:94: UserWarning: \n",
      "The secret `HF_TOKEN` does not exist in your Colab secrets.\n",
      "To authenticate with the Hugging Face Hub, create a token in your settings tab (https://huggingface.co/settings/tokens), set it as secret in your Google Colab and restart your session.\n",
      "You will be able to reuse this secret in all of your notebooks.\n",
      "Please note that authentication is recommended but still optional to access public models or datasets.\n",
      "  warnings.warn(\n"
     ]
    },
    {
     "output_type": "display_data",
     "data": {
      "text/plain": [
       "tokenizer_config.json: 0.00B [00:00, ?B/s]"
      ],
      "application/vnd.jupyter.widget-view+json": {
       "version_major": 2,
       "version_minor": 0,
       "model_id": "c257e5290d33474ab69b2229acae28ad"
      }
     },
     "metadata": {}
    },
    {
     "output_type": "display_data",
     "data": {
      "text/plain": [
       "tokenizer.json: 0.00B [00:00, ?B/s]"
      ],
      "application/vnd.jupyter.widget-view+json": {
       "version_major": 2,
       "version_minor": 0,
       "model_id": "04387f41ab7943a5b58d34f2bf3fbc8c"
      }
     },
     "metadata": {}
    },
    {
     "output_type": "display_data",
     "data": {
      "text/plain": [
       "config.json:   0%|          | 0.00/760 [00:00<?, ?B/s]"
      ],
      "application/vnd.jupyter.widget-view+json": {
       "version_major": 2,
       "version_minor": 0,
       "model_id": "7a3d7d8800cb45e7b11468755f3468bb"
      }
     },
     "metadata": {}
    },
    {
     "output_type": "stream",
     "name": "stderr",
     "text": [
      "The `load_in_4bit` and `load_in_8bit` arguments are deprecated and will be removed in the future versions. Please, pass a `BitsAndBytesConfig` object in `quantization_config` argument instead.\n"
     ]
    },
    {
     "output_type": "display_data",
     "data": {
      "text/plain": [
       "model.safetensors.index.json: 0.00B [00:00, ?B/s]"
      ],
      "application/vnd.jupyter.widget-view+json": {
       "version_major": 2,
       "version_minor": 0,
       "model_id": "5de9d21eb5c74b02baa49d03a45d69ce"
      }
     },
     "metadata": {}
    },
    {
     "output_type": "display_data",
     "data": {
      "text/plain": [
       "Fetching 2 files:   0%|          | 0/2 [00:00<?, ?it/s]"
      ],
      "application/vnd.jupyter.widget-view+json": {
       "version_major": 2,
       "version_minor": 0,
       "model_id": "8edae411a9494d1ea167c9fb3479ce22"
      }
     },
     "metadata": {}
    },
    {
     "output_type": "display_data",
     "data": {
      "text/plain": [
       "model-00001-of-00002.safetensors:   0%|          | 0.00/9.98G [00:00<?, ?B/s]"
      ],
      "application/vnd.jupyter.widget-view+json": {
       "version_major": 2,
       "version_minor": 0,
       "model_id": "beeb741ac1c34d59ac16746cef13c7da"
      }
     },
     "metadata": {}
    },
    {
     "output_type": "display_data",
     "data": {
      "text/plain": [
       "model-00002-of-00002.safetensors:   0%|          | 0.00/3.50G [00:00<?, ?B/s]"
      ],
      "application/vnd.jupyter.widget-view+json": {
       "version_major": 2,
       "version_minor": 0,
       "model_id": "656bbdcb306e4c04bfb25e6095a2de8e"
      }
     },
     "metadata": {}
    },
    {
     "output_type": "display_data",
     "data": {
      "text/plain": [
       "Loading checkpoint shards:   0%|          | 0/2 [00:00<?, ?it/s]"
      ],
      "application/vnd.jupyter.widget-view+json": {
       "version_major": 2,
       "version_minor": 0,
       "model_id": "6dae51edf76242b4b81999e0f9f8739d"
      }
     },
     "metadata": {}
    },
    {
     "output_type": "display_data",
     "data": {
      "text/plain": [
       "generation_config.json:   0%|          | 0.00/119 [00:00<?, ?B/s]"
      ],
      "application/vnd.jupyter.widget-view+json": {
       "version_major": 2,
       "version_minor": 0,
       "model_id": "52f517dec7114cd1a7f8b76259743c1c"
      }
     },
     "metadata": {}
    }
   ]
  },
  {
   "cell_type": "code",
   "source": [
    "EXAMPLES = {\n",
    "    \"Python\": [\n",
    "        'print(\"Hello, World!\")',\n",
    "        'def add(a, b):\\n    return a + b',\n",
    "        'for i in range(5):\\n    print(i)'\n",
    "    ],\n",
    "    \"Java\": [\n",
    "        'public class Hello {\\n  public static void main(String[] args) {\\n    System.out.println(\"Hello World\");\\n  }\\n}',\n",
    "        'int sum(int a, int b) {\\n  return a + b;\\n}'\n",
    "    ],\n",
    "    \"C\": [\n",
    "        '#include <stdio.h>\\nint main() {\\n  printf(\"Hello, World!\");\\n  return 0;\\n}',\n",
    "        'int add(int a, int b) {\\n  return a + b;\\n}'\n",
    "    ],\n",
    "    \"C++\": [\n",
    "        '#include <iostream>\\nusing namespace std;\\nint main() {\\n  cout << \"Hello World\";\\n  return 0;\\n}',\n",
    "        'int add(int a, int b) {\\n  return a + b;\\n}'\n",
    "    ]\n",
    "}\n",
    "\n",
    "\n",
    "def explain_code(code, language):\n",
    "    if not code.strip():\n",
    "        return \"Please enter code!\"\n",
    "\n",
    "    prompt = (\n",
    "        f\"Provide a concise explanation of this {language} code using exactly 3 bullet points:\\n\"\n",
    "        \"- Purpose: [state what the code does]\\n\"\n",
    "        \"- Key Components: [list main elements]\\n\"\n",
    "        \"- Output: [describe expected result]\\n\\n\"\n",
    "        f\"Here is the code:\\n{code}\\n\\nExplanation:\"\n",
    "    )\n",
    "\n",
    "    try:\n",
    "        inputs = tokenizer(prompt, return_tensors=\"pt\").to(\"cuda\")\n",
    "        outputs = model.generate(**inputs, max_new_tokens=200)\n",
    "        explanation = tokenizer.decode(outputs[0], skip_special_tokens=True)\n",
    "\n",
    "        if \"Explanation:\" in explanation:\n",
    "            explanation = explanation.split(\"Explanation:\")[1].strip()\n",
    "\n",
    "        if not all(x in explanation for x in [\"Purpose:\", \"Key Components:\", \"Output:\"]):\n",
    "            explanation = \"- Purpose:\\n- Key Components:\\n- Output:\\n\" + explanation\n",
    "\n",
    "        return explanation\n",
    "    except Exception as e:\n",
    "        return f\"Error: {str(e)}\"\n",
    "\n",
    "custom_css = \"\"\"\n",
    "@import url('https://fonts.googleapis.com/css2?family=Fira+Code:wght@500&family=Montserrat:wght@700&display=swap');\n",
    "body {\n",
    "    background: linear-gradient(120deg, #18122B 0%, #393053 100%) fixed !important;\n",
    "    min-height: 100vh;\n",
    "    color: #e0c2ff !important;\n",
    "    font-family: 'Fira Code', 'Montserrat', monospace, sans-serif !important;\n",
    "    overflow-x: hidden;\n",
    "}\n",
    ".animated-bg {\n",
    "    position: fixed;\n",
    "    top: 0; left: 0; width: 100vw; height: 100vh;\n",
    "    z-index: 0;\n",
    "    background: radial-gradient(circle at 20% 30%, #a855f7 0%, transparent 60%),\n",
    "                radial-gradient(circle at 80% 70%, #9333ea 0%, transparent 60%),\n",
    "                linear-gradient(120deg, #18122B 0%, #393053 100%);\n",
    "    opacity: 0.25;\n",
    "    animation: bgmove 12s ease-in-out infinite alternate;\n",
    "}\n",
    "@keyframes bgmove {\n",
    "    0% { filter: blur(0px); }\n",
    "    100% { filter: blur(8px); }\n",
    "}\n",
    "\n",
    "h1, h2, label, .gr-button {\n",
    "    color: #fff !important;\n",
    "    text-shadow: 0 0 24px #a855f7, 0 0 2px #fff;\n",
    "    font-family: 'Montserrat', 'Fira Code', monospace, sans-serif !important;\n",
    "}\n",
    "\n",
    "#code-col .gr-code, #code-col .gr-box, #code-col textarea {\n",
    "    background: rgba(40, 20, 60, 0.92) !important;\n",
    "    color: #f8f8ff !important;\n",
    "    border: 2.5px solid #a855f7 !important;\n",
    "    border-radius: 20px !important;\n",
    "    box-shadow: 0 0 32px 8px #a855f7cc, 0 0 2px 1px #222 inset !important;\n",
    "    font-size: 17px;\n",
    "    font-family: 'Fira Code', monospace !important;\n",
    "}\n",
    "#code-col label[for^='Your Code'] {\n",
    "    font-size: 1.2em;\n",
    "    color: #fff !important;\n",
    "     font-weight: bold;\n",
    "    text-shadow:\n",
    "        0 0 70px #a855f7,\n",
    "        0 0 70px #a855f7,\n",
    "        0 0 24px #9333ea,\n",
    "        0 0 16px #c084fc,\n",
    "        0 0 8px #fff !important;\n",
    "    margin-bottom: 10px;\n",
    "    letter-spacing: 1.2px;\n",
    "}\n",
    "#code-col .gr-code textarea {\n",
    "    background: rgba(40, 20, 60, 0.98) !important;\n",
    "    color: #f8f8ff !important;\n",
    "    border: 2.5px solid #a855f7 !important;\n",
    "    border-radius: 20px !important;\n",
    "    box-shadow: 0 0 32px 8px #a855f7cc !important;\n",
    "    padding: 20px !important;\n",
    "    font-family: 'Fira Code', monospace !important;\n",
    "}\n",
    "\n",
    "#explanation-col .gr-textbox, #explanation-col .gr-box, #explanation-col textarea {\n",
    "    background: rgba(30, 10, 40, 0.92) !important;\n",
    "    color: #e0c2ff !important;\n",
    "    border: 2.5px solid #c084fc !important;\n",
    "    border-radius: 20px !important;\n",
    "    box-shadow: 0 0 36px 10px #c084fcbb, 0 0 2px 1px #222 inset !important;\n",
    "    font-size: 17px;\n",
    "    font-family: 'Fira Code', monospace !important;\n",
    "}\n",
    "#explanation-col label[for^='Explanation'] {\n",
    "    font-size: 1.2em;\n",
    "    color: #fff !important;\n",
    "    font-weight: bold;\n",
    "    text-shadow: 0 0 18px #c084fc, 0 0 2px #fff;\n",
    "    margin-bottom: 10px;\n",
    "    letter-spacing: 1.2px;\n",
    "}\n",
    "#explanation-col .gr-textbox textarea {\n",
    "    background: rgba(30, 10, 40, 0.98) !important;\n",
    "    color: #e0c2ff !important;\n",
    "    border: 2.5px solid #c084fc !important;\n",
    "    border-radius: 20px !important;\n",
    "    box-shadow: 0 0 36px 10px #c084fcbb !important;\n",
    "    padding: 20px !important;\n",
    "    font-family: 'Fira Code', monospace !important;\n",
    "}\n",
    "\n",
    ".gr-button {\n",
    "    background: linear-gradient(90deg, #7e22ce, #9333ea) !important;\n",
    "    border: none !important;\n",
    "    color: #fff !important;\n",
    "    font-weight: bold;\n",
    "    padding: 16px 36px;\n",
    "    border-radius: 16px !important;\n",
    "    box-shadow: 0 0 40px #a855f7, 0 0 2px 1px #222 inset !important;\n",
    "    text-shadow: 0 0 16px #a855f7;\n",
    "    letter-spacing: 1.3px;\n",
    "    font-size: 1.18em;\n",
    "    margin-top: 18px !important;\n",
    "    margin-bottom: 10px !important;\n",
    "    transition: transform 0.2s, box-shadow 0.2s, background 0.2s;\n",
    "}\n",
    ".gr-button:hover {\n",
    "    transform: scale(1.07) rotate(-1deg);\n",
    "    background: linear-gradient(90deg, #9333ea, #7e22ce) !important;\n",
    "    color: #fff !important;\n",
    "    box-shadow: 0 0 60px 16px #a855f7cc, 0 0 2px 1px #222 inset !important;\n",
    "}\n",
    ".gr-dropdown, select {\n",
    "    background-color: rgba(24, 18, 43, 0.92) !important;\n",
    "    color: #c084fc !important;\n",
    "    border: 2.5px solid #a855f7 !important;\n",
    "    border-radius: 14px !important;\n",
    "    box-shadow: 0 0 18px 4px #a855f7cc !important;\n",
    "    font-size: 1.08em;\n",
    "    font-family: 'Fira Code', monospace !important;\n",
    "}\n",
    ".gr-markdown h1, .gr-markdown h2 {\n",
    "    color: #fff !important;\n",
    "    text-shadow: 0 0 32px #a855f7, 0 0 2px #fff;\n",
    "    letter-spacing: 2.5px;\n",
    "    margin-bottom: 0.2em;\n",
    "    font-family: 'Montserrat', 'Fira Code', monospace, sans-serif !important;\n",
    "}\n",
    ".gr-markdown strong { color: #a855f7 !important; }\n",
    ".gr-markdown pre, .gr-markdown code {\n",
    "    background: rgba(24, 18, 43, 0.92) !important;\n",
    "    color: #c084fc !important;\n",
    "    border-radius: 14px !important;\n",
    "    box-shadow: 0 0 18px 4px #a855f7cc !important;\n",
    "    padding: 16px 20px !important;\n",
    "    font-family: 'Fira Code', monospace !important;\n",
    "}\n",
    "::selection { background: #a855f7; color: #fff; }\n",
    "\n",
    ".flex-row {\n",
    "    display: flex;\n",
    "    flex-wrap: wrap;\n",
    "    gap: 40px;\n",
    "    justify-content: center;\n",
    "    align-items: flex-start;\n",
    "    margin-top: 32px;\n",
    "    margin-bottom: 32px;\n",
    "    z-index: 1;\n",
    "}\n",
    ".flex-col {\n",
    "    flex: 1 1 400px;\n",
    "    min-width: 340px;\n",
    "    max-width: 650px;\n",
    "    display: flex;\n",
    "    flex-direction: column;\n",
    "    gap: 18px;\n",
    "}\n",
    "@media (max-width: 1100px) {\n",
    "    .flex-row { flex-direction: column; gap: 24px; }\n",
    "    .flex-col { max-width: 100%; }\n",
    "}\n",
    "\"\"\"\n",
    "\n",
    "with gr.Blocks(css=custom_css) as demo:\n",
    "    gr.HTML('<div class=\"animated-bg\"></div>')\n",
    "    gr.Markdown(\"\"\"\n",
    "    <h1 style='font-size:2.7em;letter-spacing:2.5px;'><span style='color:#fff;text-shadow:0 0 32px #a855f7;'>AI Code Explainer</span></h1>\n",
    "    <h2 style='color:#a855f7;text-shadow:0 0 24px #a855f7;font-size:1.4em;'>Understand Python, Java, C, or C++ code in plain English</h2>\n",
    "    \"\"\")\n",
    "\n",
    "    with gr.Row(elem_id=\"top-controls\", equal_height=True):\n",
    "        language_dropdown = gr.Dropdown(choices=list(EXAMPLES.keys()), value=\"Python\", label=\"Select Language\")\n",
    "        example_selector = gr.Dropdown(choices=EXAMPLES[\"Python\"], label=\"Select Example\")\n",
    "\n",
    "    with gr.Row(elem_id=\"main-content-row\"):\n",
    "        with gr.Column(elem_id=\"code-col\"):\n",
    "            code_input = gr.Code(label=\"Your Code\", language=\"python\", lines=16)\n",
    "            explain_btn = gr.Button(\"Explain Code\")\n",
    "        with gr.Column(elem_id=\"explanation-col\"):\n",
    "            explanation_output = gr.Textbox(label=\"Explanation\", lines=16, interactive=False)\n",
    "\n",
    "    def update_examples(language):\n",
    "        return gr.update(choices=EXAMPLES[language], value=EXAMPLES[language][0]), EXAMPLES[language][0]\n",
    "\n",
    "    language_dropdown.change(fn=update_examples, inputs=language_dropdown, outputs=[example_selector, code_input])\n",
    "    example_selector.change(fn=lambda code: code, inputs=example_selector, outputs=code_input)\n",
    "    explain_btn.click(fn=explain_code, inputs=[code_input, language_dropdown], outputs=explanation_output)\n",
    "\n",
    "demo.launch()"
   ],
   "metadata": {
    "colab": {
     "base_uri": "https://localhost:8080/",
     "height": 646
    },
    "id": "uswPsYVCIgrg",
    "outputId": "d1d06e98-6aea-4545-bf6c-3c97859bbee2"
   },
   "execution_count": 8,
   "outputs": [
    {
     "output_type": "stream",
     "name": "stdout",
     "text": [
      "It looks like you are running Gradio on a hosted a Jupyter notebook. For the Gradio app to work, sharing must be enabled. Automatically setting `share=True` (you can turn this off by setting `share=False` in `launch()` explicitly).\n",
      "\n",
      "Colab notebook detected. To show errors in colab notebook, set debug=True in launch()\n",
      "* Running on public URL: https://a7731bbc61947fbea9.gradio.live\n",
      "\n",
      "This share link expires in 1 week. For free permanent hosting and GPU upgrades, run `gradio deploy` from the terminal in the working directory to deploy to Hugging Face Spaces (https://huggingface.co/spaces)\n"
     ]
    },
    {
     "output_type": "display_data",
     "data": {
      "text/plain": [
       "<IPython.core.display.HTML object>"
      ],
      "text/html": [
       "<div><iframe src=\"https://a7731bbc61947fbea9.gradio.live\" width=\"100%\" height=\"500\" allow=\"autoplay; camera; microphone; clipboard-read; clipboard-write;\" frameborder=\"0\" allowfullscreen></iframe></div>"
      ]
     },
     "metadata": {}
    },
    {
     "output_type": "execute_result",
     "data": {
      "text/plain": []
     },
     "metadata": {},
     "execution_count": 8
    }
   ]
  }
 ]
}